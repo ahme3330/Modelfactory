{
 "cells": [
  {
   "cell_type": "markdown",
   "id": "462de08a",
   "metadata": {},
   "source": [
    "## User-Defined Constants\n",
    "\n",
    "Set these before each run.  "
   ]
  },
  {
   "cell_type": "code",
   "execution_count": 1,
   "id": "0aaad362",
   "metadata": {},
   "outputs": [],
   "source": [
    "REGION=\"us-central1\"\n",
    "PROJECT_ID = \"rax-datascience-dev\"\n",
    "DATASET_NAME = \"inventory_forecasting\"\n",
    "RUN_DATE = \"2022-07-01\"\n",
    "# Note: Use underscores instead of dashes for BQ compatibility\n",
    "DISPLAY_NAME_PREFIX = \"automl_inventory\"\n",
    "MAPE_THRESHOLD = 35"
   ]
  }
 ],
 "metadata": {
  "environment": {
   "name": "tf2-gpu.2-3.m79",
   "type": "gcloud",
   "uri": "gcr.io/deeplearning-platform-release/tf2-gpu.2-3:m79"
  },
  "kernelspec": {
   "display_name": "Python 3",
   "language": "python",
   "name": "python3"
  },
  "language_info": {
   "codemirror_mode": {
    "name": "ipython",
    "version": 3
   },
   "file_extension": ".py",
   "mimetype": "text/x-python",
   "name": "python",
   "nbconvert_exporter": "python",
   "pygments_lexer": "ipython3",
   "version": "3.7.10"
  }
 },
 "nbformat": 4,
 "nbformat_minor": 5
}
